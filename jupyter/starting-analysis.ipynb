{
 "cells": [
  {
   "cell_type": "code",
   "execution_count": 1,
   "metadata": {},
   "outputs": [],
   "source": [
    "# Import dependencies\n",
    "import urllib.request, json \n",
    "from bson.json_util import dumps, loads\n",
    "import os, ssl\n",
    "import pymongo\n",
    "import itertools\n",
    "import pandas as pd"
   ]
  },
  {
   "cell_type": "markdown",
   "metadata": {},
   "source": [
    "### 2021"
   ]
  },
  {
   "cell_type": "code",
   "execution_count": 2,
   "metadata": {},
   "outputs": [],
   "source": [
    "if (not os.environ.get('PYTHONHTTPSVERIFY', '') and\n",
    "getattr(ssl, '_create_unverified_context', None)):\n",
    "    ssl._create_default_https_context = ssl._create_unverified_context\n",
    "\n",
    "with urllib.request.urlopen(\"https://www.fire.ca.gov/umbraco/api/IncidentApi/List?inactive=true&year=2021\") as url:\n",
    "    inactive_2021 = json.loads(url.read().decode())\n",
    "    # print(json.dumps(data, indent=4, sort_keys=False))"
   ]
  },
  {
   "cell_type": "code",
   "execution_count": 3,
   "metadata": {},
   "outputs": [],
   "source": [
    "with urllib.request.urlopen(\"https://www.fire.ca.gov/umbraco/api/IncidentApi/List?inactive=false&year=2021\") as url:\n",
    "    active_2021 = json.loads(url.read().decode())\n",
    "    # print(json.dumps(data, indent=4, sort_keys=False))"
   ]
  },
  {
   "cell_type": "markdown",
   "metadata": {},
   "source": [
    "## 2020"
   ]
  },
  {
   "cell_type": "code",
   "execution_count": 4,
   "metadata": {},
   "outputs": [],
   "source": [
    "with urllib.request.urlopen(\"https://www.fire.ca.gov/umbraco/api/IncidentApi/List?inactive=true&year=2020\") as url:\n",
    "    inactive_2020 = json.loads(url.read().decode())\n",
    "    # print(json.dumps(data, indent=4, sort_keys=False))"
   ]
  },
  {
   "cell_type": "code",
   "execution_count": 5,
   "metadata": {},
   "outputs": [],
   "source": [
    "with urllib.request.urlopen(\"https://www.fire.ca.gov/umbraco/api/IncidentApi/List?inactive=false&year=2020\") as url:\n",
    "    active_2020 = json.loads(url.read().decode())\n",
    "    # print(json.dumps(data, indent=4, sort_keys=False))"
   ]
  },
  {
   "cell_type": "markdown",
   "metadata": {},
   "source": [
    "## 2019"
   ]
  },
  {
   "cell_type": "code",
   "execution_count": 6,
   "metadata": {},
   "outputs": [],
   "source": [
    "with urllib.request.urlopen(\"https://www.fire.ca.gov/umbraco/api/IncidentApi/List?inactive=true&year=2019\") as url:\n",
    "    inactive_2019 = json.loads(url.read().decode())\n",
    "    # print(json.dumps(data, indent=4, sort_keys=False))"
   ]
  },
  {
   "cell_type": "code",
   "execution_count": 7,
   "metadata": {},
   "outputs": [],
   "source": [
    "with urllib.request.urlopen(\"https://www.fire.ca.gov/umbraco/api/IncidentApi/List?inactive=false&year=2019\") as url:\n",
    "    active_2019 = json.loads(url.read().decode())"
   ]
  },
  {
   "cell_type": "markdown",
   "metadata": {},
   "source": [
    "## 2018"
   ]
  },
  {
   "cell_type": "code",
   "execution_count": 8,
   "metadata": {},
   "outputs": [],
   "source": [
    "with urllib.request.urlopen(\"https://www.fire.ca.gov/umbraco/api/IncidentApi/List?inactive=true&year=2018\") as url:\n",
    "    inactive_2018 = json.loads(url.read().decode())\n",
    "    # print(json.dumps(data, indent=4, sort_keys=False))"
   ]
  },
  {
   "cell_type": "code",
   "execution_count": 9,
   "metadata": {},
   "outputs": [],
   "source": [
    "with urllib.request.urlopen(\"https://www.fire.ca.gov/umbraco/api/IncidentApi/List?inactive=false&year=2018\") as url:\n",
    "    active_2018 = json.loads(url.read().decode())\n",
    "    # print(json.dumps(data, indent=4, sort_keys=False))"
   ]
  },
  {
   "cell_type": "markdown",
   "metadata": {},
   "source": [
    "## 2017"
   ]
  },
  {
   "cell_type": "code",
   "execution_count": 10,
   "metadata": {},
   "outputs": [],
   "source": [
    "with urllib.request.urlopen(\"https://www.fire.ca.gov/umbraco/api/IncidentApi/List?inactive=true&year=2017\") as url:\n",
    "    inactive_2017 = json.loads(url.read().decode())\n",
    "    # print(json.dumps(data, indent=4, sort_keys=False))"
   ]
  },
  {
   "cell_type": "code",
   "execution_count": 11,
   "metadata": {},
   "outputs": [],
   "source": [
    "with urllib.request.urlopen(\"https://www.fire.ca.gov/umbraco/api/IncidentApi/List?inactive=false&year=2017\") as url:\n",
    "    active_2017 = json.loads(url.read().decode())\n",
    "    # print(json.dumps(data, indent=4, sort_keys=False))"
   ]
  },
  {
   "cell_type": "markdown",
   "metadata": {},
   "source": [
    "## 2016"
   ]
  },
  {
   "cell_type": "code",
   "execution_count": 12,
   "metadata": {},
   "outputs": [],
   "source": [
    "with urllib.request.urlopen(\"https://www.fire.ca.gov/umbraco/api/IncidentApi/List?inactive=true&year=2016\") as url:\n",
    "    inactive_2016 = json.loads(url.read().decode())\n",
    "    # print(json.dumps(data, indent=4, sort_keys=False))"
   ]
  },
  {
   "cell_type": "code",
   "execution_count": 13,
   "metadata": {},
   "outputs": [],
   "source": [
    "with urllib.request.urlopen(\"https://www.fire.ca.gov/umbraco/api/IncidentApi/List?inactive=false&year=2016\") as url:\n",
    "    active_2016 = json.loads(url.read().decode())\n",
    "    # print(json.dumps(data, indent=4, sort_keys=False))"
   ]
  },
  {
   "cell_type": "markdown",
   "metadata": {},
   "source": [
    "## 2015"
   ]
  },
  {
   "cell_type": "code",
   "execution_count": 14,
   "metadata": {},
   "outputs": [],
   "source": [
    "with urllib.request.urlopen(\"https://www.fire.ca.gov/umbraco/api/IncidentApi/List?inactive=true&year=2015\") as url:\n",
    "    inactive_2015 = json.loads(url.read().decode())\n",
    "    # print(json.dumps(data, indent=4, sort_keys=False))"
   ]
  },
  {
   "cell_type": "code",
   "execution_count": 15,
   "metadata": {},
   "outputs": [],
   "source": [
    "with urllib.request.urlopen(\"https://www.fire.ca.gov/umbraco/api/IncidentApi/List?inactive=false&year=2015\") as url:\n",
    "    active_2015 = json.loads(url.read().decode())\n",
    "    # print(json.dumps(data, indent=4, sort_keys=False))"
   ]
  },
  {
   "cell_type": "markdown",
   "metadata": {},
   "source": [
    "## 2014"
   ]
  },
  {
   "cell_type": "code",
   "execution_count": 16,
   "metadata": {},
   "outputs": [],
   "source": [
    "with urllib.request.urlopen(\"https://www.fire.ca.gov/umbraco/api/IncidentApi/List?inactive=true&year=2014\") as url:\n",
    "    inactive_2014 = json.loads(url.read().decode())\n",
    "    # print(json.dumps(data, indent=4, sort_keys=False))"
   ]
  },
  {
   "cell_type": "code",
   "execution_count": 17,
   "metadata": {},
   "outputs": [],
   "source": [
    "with urllib.request.urlopen(\"https://www.fire.ca.gov/umbraco/api/IncidentApi/List?inactive=false&year=2014\") as url:\n",
    "    active_2014 = json.loads(url.read().decode())\n",
    "    # print(json.dumps(data, indent=4, sort_keys=False))"
   ]
  },
  {
   "cell_type": "markdown",
   "metadata": {},
   "source": [
    "## 2013"
   ]
  },
  {
   "cell_type": "code",
   "execution_count": 18,
   "metadata": {},
   "outputs": [],
   "source": [
    "with urllib.request.urlopen(\"https://www.fire.ca.gov/umbraco/api/IncidentApi/List?inactive=true&year=2013\") as url:\n",
    "    inactive_2013 = json.loads(url.read().decode())\n",
    "    # print(json.dumps(data, indent=4, sort_keys=False))"
   ]
  },
  {
   "cell_type": "code",
   "execution_count": 19,
   "metadata": {},
   "outputs": [],
   "source": [
    "with urllib.request.urlopen(\"https://www.fire.ca.gov/umbraco/api/IncidentApi/List?inactive=false&year=2013\") as url:\n",
    "    active_2013 = json.loads(url.read().decode())\n",
    "    # print(json.dumps(data, indent=4, sort_keys=False))"
   ]
  },
  {
   "cell_type": "markdown",
   "metadata": {},
   "source": [
    "## Concat"
   ]
  },
  {
   "cell_type": "code",
   "execution_count": 20,
   "metadata": {},
   "outputs": [
    {
     "data": {
      "text/plain": [
       "2072"
      ]
     },
     "execution_count": 20,
     "metadata": {},
     "output_type": "execute_result"
    }
   ],
   "source": [
    "scraped_data = active_2021 + inactive_2021 + active_2020 + inactive_2020 + active_2019 + inactive_2019 + active_2018 + inactive_2018 + active_2017 + inactive_2017 + active_2016 + inactive_2016 + active_2015 + inactive_2015 + active_2014 + inactive_2014 + active_2013 + inactive_2013\n",
    "\n",
    "len(scraped_data)\n",
    "# scraped_data"
   ]
  },
  {
   "cell_type": "code",
   "execution_count": 21,
   "metadata": {},
   "outputs": [],
   "source": [
    "#delete all fire data with erroneus values for either Latitude or Longitude (values outside the range of possibility)\n",
    "final_data = []\n",
    "for item in scraped_data:\n",
    "    if item[\"Latitude\"] < 90 and item[\"Latitude\"] > 0 and item[\"Longitude\"] > -180 and item[\"Longitude\"] < 180:\n",
    "        final_data.append(item)\n",
    "# final_data"
   ]
  },
  {
   "cell_type": "code",
   "execution_count": 22,
   "metadata": {},
   "outputs": [],
   "source": [
    "final_df = pd.DataFrame(final_data)\n",
    "# print(min(final_df[\"Longitude\"]))\n",
    "# print(max(final_df[\"Longitude\"]))\n",
    "# print(min(final_df[\"Latitude\"]))\n",
    "# print(max(final_df[\"Latitude\"]))\n",
    "# fire_df"
   ]
  },
  {
   "cell_type": "markdown",
   "metadata": {},
   "source": [
    "## Pymongo"
   ]
  },
  {
   "cell_type": "code",
   "execution_count": 23,
   "metadata": {},
   "outputs": [],
   "source": [
    "# Initialize PyMongo to work with MongoDBs\n",
    "conn = 'mongodb://localhost:27017'\n",
    "client = pymongo.MongoClient(conn)\n",
    "\n",
    "# Define database and collection\n",
    "db = client.calfire\n",
    "collection = db.fires"
   ]
  },
  {
   "cell_type": "code",
   "execution_count": 24,
   "metadata": {},
   "outputs": [],
   "source": [
    "for item in final_data:\n",
    "    collection.insert_one(item)"
   ]
  },
  {
   "cell_type": "code",
   "execution_count": 25,
   "metadata": {},
   "outputs": [],
   "source": [
    "#convert sq miles to total acreage in CA\n",
    "ca_area_miles = 163696\n",
    "ca_area_acreage = ca_area_miles * 640\n",
    "# \n"
   ]
  },
  {
   "cell_type": "code",
   "execution_count": 26,
   "metadata": {},
   "outputs": [],
   "source": [
    "# # total_2021 = inactive_2021[\"AcresBurned\"].sum()\n",
    "# final_data[\"Year\"] = final_data[\"ExtinguishedDateOnly\"].dt.year"
   ]
  },
  {
   "cell_type": "code",
   "execution_count": 27,
   "metadata": {},
   "outputs": [],
   "source": [
    "total_2021_burned = 0\n",
    "for fire in inactive_2021:\n",
    "    try: \n",
    "        total_2021_burned += fire[\"AcresBurned\"]\n",
    "    except:\n",
    "        continue\n",
    "        \n",
    "for fire in active_2021:\n",
    "    try: \n",
    "        total_2021_burned += fire[\"AcresBurned\"]\n",
    "    except:\n",
    "        continue\n",
    "\n",
    "total_2020_burned = 0\n",
    "for fire in inactive_2020:\n",
    "    try: \n",
    "        total_2020_burned += fire[\"AcresBurned\"]\n",
    "    except:\n",
    "        continue\n",
    "        \n",
    "for fire in active_2020:\n",
    "    try: \n",
    "        total_2020_burned += fire[\"AcresBurned\"]\n",
    "    except:\n",
    "        continue\n",
    "\n",
    "total_2019_burned = 0\n",
    "for fire in inactive_2019:\n",
    "    try: \n",
    "        total_2019_burned += fire[\"AcresBurned\"]\n",
    "    except:\n",
    "        continue\n",
    "        \n",
    "for fire in active_2019:\n",
    "    try: \n",
    "        total_2019_burned += fire[\"AcresBurned\"]\n",
    "    except:\n",
    "        continue\n",
    "        \n",
    "total_2018_burned = 0\n",
    "for fire in inactive_2018:\n",
    "    try: \n",
    "        total_2018_burned += fire[\"AcresBurned\"]\n",
    "    except:\n",
    "        continue\n",
    "        \n",
    "for fire in active_2018:\n",
    "    try: \n",
    "        total_2018_burned += fire[\"AcresBurned\"]\n",
    "    except:\n",
    "        continue\n",
    "        \n",
    "total_2017_burned = 0\n",
    "for fire in inactive_2017:\n",
    "    try: \n",
    "        total_2017_burned += fire[\"AcresBurned\"]\n",
    "    except:\n",
    "        continue\n",
    "        \n",
    "for fire in active_2017:\n",
    "    try: \n",
    "        total_2017_burned += fire[\"AcresBurned\"]\n",
    "    except:\n",
    "        continue\n",
    "        \n",
    "total_2016_burned = 0\n",
    "for fire in inactive_2016:\n",
    "    try: \n",
    "        total_2016_burned += fire[\"AcresBurned\"]\n",
    "    except:\n",
    "        continue\n",
    "        \n",
    "for fire in active_2016:\n",
    "    try: \n",
    "        total_2016_burned += fire[\"AcresBurned\"]\n",
    "    except:\n",
    "        continue\n",
    "        \n",
    "total_2015_burned = 0\n",
    "for fire in inactive_2015:\n",
    "    try: \n",
    "        total_2015_burned += fire[\"AcresBurned\"]\n",
    "    except:\n",
    "        continue\n",
    "        \n",
    "for fire in active_2015:\n",
    "    try: \n",
    "        total_2015_burned += fire[\"AcresBurned\"]\n",
    "    except:\n",
    "        continue\n",
    "\n",
    "total_2014_burned = 0\n",
    "for fire in inactive_2014:\n",
    "    try: \n",
    "        total_2014_burned += fire[\"AcresBurned\"]\n",
    "    except:\n",
    "        continue\n",
    "        \n",
    "for fire in active_2014:\n",
    "    try: \n",
    "        total_2014_burned += fire[\"AcresBurned\"]\n",
    "    except:\n",
    "        continue\n",
    "\n",
    "total_2013_burned = 0\n",
    "for fire in inactive_2013:\n",
    "    try: \n",
    "        total_2013_burned += fire[\"AcresBurned\"]\n",
    "    except:\n",
    "        continue\n",
    "        \n",
    "for fire in active_2013:\n",
    "    try: \n",
    "        total_2013_burned += fire[\"AcresBurned\"]\n",
    "    except:\n",
    "        continue      \n",
    "        \n",
    "# print(total_2021_burned, total_2020_burned, total_2019_burned, total_2018_burned,\n",
    "#       total_2017_burned,total_2016_burned,total_2015_burned, total_2014_burned,\n",
    "#      total_2013_burned)\n",
    "\n"
   ]
  },
  {
   "cell_type": "code",
   "execution_count": 28,
   "metadata": {},
   "outputs": [],
   "source": [
    "burned_by_year = pd.DataFrame({\n",
    "    \"2021 Recorded Burn Totals\": [total_2021_burned],\n",
    "    \"2020 Recorded Burn Totals\": [total_2020_burned],\n",
    "    \"2019 Recorded Burn Totals\": [total_2019_burned],\n",
    "    \"2018 Recorded Burn Totals\": [total_2018_burned],\n",
    "    \"2017 Recorded Burn Totals\": [total_2017_burned],\n",
    "    \"2016 Recorded Burn Totals\": [total_2016_burned],\n",
    "    \"2015 Recorded Burn Totals\": [total_2015_burned],\n",
    "    \"2014 Recorded Burn Totals\": [total_2014_burned],\n",
    "    \"2013 Recorded Burn Totals\": [total_2013_burned],\n",
    "    \"2021 % of CA Burned\": (total_2021_burned / ca_area_acreage) * 100,\n",
    "    \"2020 % of CA Burned\": (total_2020_burned / ca_area_acreage) * 100,\n",
    "    \"2019 % of CA Burned\": (total_2019_burned / ca_area_acreage) * 100,\n",
    "    \"2018 % of CA Burned\": (total_2018_burned / ca_area_acreage) * 100,\n",
    "    \"2017 % of CA Burned\": (total_2017_burned / ca_area_acreage) * 100,\n",
    "    \"2016 % of CA Burned\": (total_2016_burned / ca_area_acreage) * 100,\n",
    "    \"2015 % of CA Burned\": (total_2015_burned / ca_area_acreage) * 100,\n",
    "    \"2014 % of CA Burned\": (total_2014_burned / ca_area_acreage) * 100,\n",
    "    \"2013 % of CA Burned\": (total_2013_burned / ca_area_acreage) * 100,\n",
    "}, index = [0])\n"
   ]
  },
  {
   "cell_type": "code",
   "execution_count": 29,
   "metadata": {},
   "outputs": [],
   "source": [
    "burned_by_year_df = burned_by_year.transpose()"
   ]
  },
  {
   "cell_type": "code",
   "execution_count": 30,
   "metadata": {},
   "outputs": [
    {
     "data": {
      "text/html": [
       "<div>\n",
       "<style scoped>\n",
       "    .dataframe tbody tr th:only-of-type {\n",
       "        vertical-align: middle;\n",
       "    }\n",
       "\n",
       "    .dataframe tbody tr th {\n",
       "        vertical-align: top;\n",
       "    }\n",
       "\n",
       "    .dataframe thead th {\n",
       "        text-align: right;\n",
       "    }\n",
       "</style>\n",
       "<table border=\"1\" class=\"dataframe\">\n",
       "  <thead>\n",
       "    <tr style=\"text-align: right;\">\n",
       "      <th></th>\n",
       "      <th>index</th>\n",
       "      <th>0</th>\n",
       "    </tr>\n",
       "  </thead>\n",
       "  <tbody>\n",
       "    <tr>\n",
       "      <th>0</th>\n",
       "      <td>2021 Recorded Burn Totals</td>\n",
       "      <td>2.129635e+06</td>\n",
       "    </tr>\n",
       "    <tr>\n",
       "      <th>1</th>\n",
       "      <td>2020 Recorded Burn Totals</td>\n",
       "      <td>2.521282e+06</td>\n",
       "    </tr>\n",
       "    <tr>\n",
       "      <th>2</th>\n",
       "      <td>2019 Recorded Burn Totals</td>\n",
       "      <td>2.854690e+05</td>\n",
       "    </tr>\n",
       "    <tr>\n",
       "      <th>3</th>\n",
       "      <td>2018 Recorded Burn Totals</td>\n",
       "      <td>1.618033e+06</td>\n",
       "    </tr>\n",
       "    <tr>\n",
       "      <th>4</th>\n",
       "      <td>2017 Recorded Burn Totals</td>\n",
       "      <td>1.566344e+06</td>\n",
       "    </tr>\n",
       "    <tr>\n",
       "      <th>5</th>\n",
       "      <td>2016 Recorded Burn Totals</td>\n",
       "      <td>5.002810e+05</td>\n",
       "    </tr>\n",
       "    <tr>\n",
       "      <th>6</th>\n",
       "      <td>2015 Recorded Burn Totals</td>\n",
       "      <td>6.994280e+05</td>\n",
       "    </tr>\n",
       "    <tr>\n",
       "      <th>7</th>\n",
       "      <td>2014 Recorded Burn Totals</td>\n",
       "      <td>4.401750e+05</td>\n",
       "    </tr>\n",
       "    <tr>\n",
       "      <th>8</th>\n",
       "      <td>2013 Recorded Burn Totals</td>\n",
       "      <td>5.239660e+05</td>\n",
       "    </tr>\n",
       "    <tr>\n",
       "      <th>9</th>\n",
       "      <td>2021 % of CA Burned</td>\n",
       "      <td>2.032765e+00</td>\n",
       "    </tr>\n",
       "    <tr>\n",
       "      <th>10</th>\n",
       "      <td>2020 % of CA Burned</td>\n",
       "      <td>2.406597e+00</td>\n",
       "    </tr>\n",
       "    <tr>\n",
       "      <th>11</th>\n",
       "      <td>2019 % of CA Burned</td>\n",
       "      <td>2.724839e-01</td>\n",
       "    </tr>\n",
       "    <tr>\n",
       "      <th>12</th>\n",
       "      <td>2018 % of CA Burned</td>\n",
       "      <td>1.544434e+00</td>\n",
       "    </tr>\n",
       "    <tr>\n",
       "      <th>13</th>\n",
       "      <td>2017 % of CA Burned</td>\n",
       "      <td>1.495096e+00</td>\n",
       "    </tr>\n",
       "    <tr>\n",
       "      <th>14</th>\n",
       "      <td>2016 % of CA Burned</td>\n",
       "      <td>4.775248e-01</td>\n",
       "    </tr>\n",
       "    <tr>\n",
       "      <th>15</th>\n",
       "      <td>2015 % of CA Burned</td>\n",
       "      <td>6.676133e-01</td>\n",
       "    </tr>\n",
       "    <tr>\n",
       "      <th>16</th>\n",
       "      <td>2014 % of CA Burned</td>\n",
       "      <td>4.201529e-01</td>\n",
       "    </tr>\n",
       "    <tr>\n",
       "      <th>17</th>\n",
       "      <td>2013 % of CA Burned</td>\n",
       "      <td>5.001325e-01</td>\n",
       "    </tr>\n",
       "  </tbody>\n",
       "</table>\n",
       "</div>"
      ],
      "text/plain": [
       "                        index             0\n",
       "0   2021 Recorded Burn Totals  2.129635e+06\n",
       "1   2020 Recorded Burn Totals  2.521282e+06\n",
       "2   2019 Recorded Burn Totals  2.854690e+05\n",
       "3   2018 Recorded Burn Totals  1.618033e+06\n",
       "4   2017 Recorded Burn Totals  1.566344e+06\n",
       "5   2016 Recorded Burn Totals  5.002810e+05\n",
       "6   2015 Recorded Burn Totals  6.994280e+05\n",
       "7   2014 Recorded Burn Totals  4.401750e+05\n",
       "8   2013 Recorded Burn Totals  5.239660e+05\n",
       "9         2021 % of CA Burned  2.032765e+00\n",
       "10        2020 % of CA Burned  2.406597e+00\n",
       "11        2019 % of CA Burned  2.724839e-01\n",
       "12        2018 % of CA Burned  1.544434e+00\n",
       "13        2017 % of CA Burned  1.495096e+00\n",
       "14        2016 % of CA Burned  4.775248e-01\n",
       "15        2015 % of CA Burned  6.676133e-01\n",
       "16        2014 % of CA Burned  4.201529e-01\n",
       "17        2013 % of CA Burned  5.001325e-01"
      ]
     },
     "execution_count": 30,
     "metadata": {},
     "output_type": "execute_result"
    }
   ],
   "source": [
    "burned_by_year_df.reset_index()"
   ]
  },
  {
   "cell_type": "code",
   "execution_count": 31,
   "metadata": {},
   "outputs": [],
   "source": [
    "burned_by_year_df = burned_by_year_df.rename(columns={0:\"Acres Burned\"})\n",
    "# burned_by_year_df"
   ]
  },
  {
   "cell_type": "code",
   "execution_count": 32,
   "metadata": {},
   "outputs": [],
   "source": [
    "# ca_burnt_since_2013 = total_2021_burned + total_2021_burned total_2021_burned +total_2021_burned +total_2021_burned +total_2021_burned +total_2021_burned +total_2021_burned +total_2021_burned +"
   ]
  },
  {
   "cell_type": "code",
   "execution_count": 33,
   "metadata": {},
   "outputs": [
    {
     "data": {
      "text/html": [
       "<div>\n",
       "<style scoped>\n",
       "    .dataframe tbody tr th:only-of-type {\n",
       "        vertical-align: middle;\n",
       "    }\n",
       "\n",
       "    .dataframe tbody tr th {\n",
       "        vertical-align: top;\n",
       "    }\n",
       "\n",
       "    .dataframe thead th {\n",
       "        text-align: right;\n",
       "    }\n",
       "</style>\n",
       "<table border=\"1\" class=\"dataframe\">\n",
       "  <thead>\n",
       "    <tr style=\"text-align: right;\">\n",
       "      <th></th>\n",
       "      <th>Year</th>\n",
       "      <th>Total_Recorded_Burnt_Acres</th>\n",
       "      <th>Total_%_of_CA_Burned</th>\n",
       "      <th>Percent_of_CA_Burned_Post_2013</th>\n",
       "    </tr>\n",
       "  </thead>\n",
       "  <tbody>\n",
       "    <tr>\n",
       "      <th>0</th>\n",
       "      <td>2021</td>\n",
       "      <td>2129635.0</td>\n",
       "      <td>2.032765</td>\n",
       "      <td>9.816799</td>\n",
       "    </tr>\n",
       "    <tr>\n",
       "      <th>1</th>\n",
       "      <td>2020</td>\n",
       "      <td>2521282.0</td>\n",
       "      <td>2.406597</td>\n",
       "      <td>7.784035</td>\n",
       "    </tr>\n",
       "    <tr>\n",
       "      <th>2</th>\n",
       "      <td>2019</td>\n",
       "      <td>285469.0</td>\n",
       "      <td>0.272484</td>\n",
       "      <td>5.377437</td>\n",
       "    </tr>\n",
       "    <tr>\n",
       "      <th>3</th>\n",
       "      <td>2018</td>\n",
       "      <td>1618033.0</td>\n",
       "      <td>1.544434</td>\n",
       "      <td>5.104954</td>\n",
       "    </tr>\n",
       "    <tr>\n",
       "      <th>4</th>\n",
       "      <td>2017</td>\n",
       "      <td>1566344.0</td>\n",
       "      <td>1.495096</td>\n",
       "      <td>3.560520</td>\n",
       "    </tr>\n",
       "    <tr>\n",
       "      <th>5</th>\n",
       "      <td>2016</td>\n",
       "      <td>500281.0</td>\n",
       "      <td>0.477525</td>\n",
       "      <td>2.065423</td>\n",
       "    </tr>\n",
       "    <tr>\n",
       "      <th>6</th>\n",
       "      <td>2015</td>\n",
       "      <td>699428.0</td>\n",
       "      <td>0.667613</td>\n",
       "      <td>1.587899</td>\n",
       "    </tr>\n",
       "    <tr>\n",
       "      <th>7</th>\n",
       "      <td>2014</td>\n",
       "      <td>440175.0</td>\n",
       "      <td>0.420153</td>\n",
       "      <td>0.920285</td>\n",
       "    </tr>\n",
       "    <tr>\n",
       "      <th>8</th>\n",
       "      <td>2013</td>\n",
       "      <td>523966.0</td>\n",
       "      <td>0.500132</td>\n",
       "      <td>0.005001</td>\n",
       "    </tr>\n",
       "  </tbody>\n",
       "</table>\n",
       "</div>"
      ],
      "text/plain": [
       "   Year  Total_Recorded_Burnt_Acres  Total_%_of_CA_Burned  \\\n",
       "0  2021                   2129635.0              2.032765   \n",
       "1  2020                   2521282.0              2.406597   \n",
       "2  2019                    285469.0              0.272484   \n",
       "3  2018                   1618033.0              1.544434   \n",
       "4  2017                   1566344.0              1.495096   \n",
       "5  2016                    500281.0              0.477525   \n",
       "6  2015                    699428.0              0.667613   \n",
       "7  2014                    440175.0              0.420153   \n",
       "8  2013                    523966.0              0.500132   \n",
       "\n",
       "   Percent_of_CA_Burned_Post_2013  \n",
       "0                        9.816799  \n",
       "1                        7.784035  \n",
       "2                        5.377437  \n",
       "3                        5.104954  \n",
       "4                        3.560520  \n",
       "5                        2.065423  \n",
       "6                        1.587899  \n",
       "7                        0.920285  \n",
       "8                        0.005001  "
      ]
     },
     "execution_count": 33,
     "metadata": {},
     "output_type": "execute_result"
    }
   ],
   "source": [
    "burned_by_year_df = pd.DataFrame(\n",
    "    {\"Year\": [\"2021\", \"2020\", \"2019\", \"2018\", \"2017\", \"2016\", \"2015\", \"2014\",\n",
    "             \"2013\"],\n",
    "    \n",
    "        \"Total_Recorded_Burnt_Acres\":  [total_2021_burned, total_2020_burned, total_2019_burned,                                 total_2018_burned,total_2017_burned,total_2016_burned,total_2015_burned,\n",
    "                                total_2014_burned,total_2013_burned],\n",
    "     \"Total_%_of_CA_Burned\" : [(total_2021_burned / ca_area_acreage) * 100,(total_2020_burned / ca_area_acreage) * 100,\n",
    "                              (total_2019_burned / ca_area_acreage) * 100, (total_2018_burned / ca_area_acreage) * 100,\n",
    "                              (total_2017_burned / ca_area_acreage) * 100, (total_2016_burned / ca_area_acreage) * 100,\n",
    "                              (total_2015_burned / ca_area_acreage) * 100,(total_2014_burned / ca_area_acreage) * 100,\n",
    "                              (total_2013_burned / ca_area_acreage) * 100,],\n",
    "     \"Percent_of_CA_Burned_Post_2013\": [(total_2021_burned / ca_area_acreage) * 100 + (total_2020_burned / ca_area_acreage) * 100 +\n",
    "                              (total_2019_burned / ca_area_acreage) * 100 + (total_2018_burned / ca_area_acreage) * 100 +\n",
    "                              (total_2017_burned / ca_area_acreage) * 100 + (total_2016_burned / ca_area_acreage) * 100 +\n",
    "                              (total_2015_burned / ca_area_acreage) * 100 + (total_2014_burned / ca_area_acreage) * 100 +\n",
    "                              (total_2013_burned / ca_area_acreage) * 100,\n",
    "                                 #2020\n",
    "                            (total_2020_burned / ca_area_acreage) * 100 +\n",
    "                              (total_2019_burned / ca_area_acreage) * 100 + (total_2018_burned / ca_area_acreage) * 100 +\n",
    "                              (total_2017_burned / ca_area_acreage) * 100 + (total_2016_burned / ca_area_acreage) * 100 +\n",
    "                              (total_2015_burned / ca_area_acreage) * 100 + (total_2014_burned / ca_area_acreage) * 100 +\n",
    "                              (total_2013_burned / ca_area_acreage) * 100,\n",
    "                                 #2019\n",
    "                              (total_2019_burned / ca_area_acreage) * 100 + (total_2018_burned / ca_area_acreage) * 100 +\n",
    "                              (total_2017_burned / ca_area_acreage) * 100 + (total_2016_burned / ca_area_acreage) * 100 +\n",
    "                              (total_2015_burned / ca_area_acreage) * 100 + (total_2014_burned / ca_area_acreage) * 100 +\n",
    "                              (total_2013_burned / ca_area_acreage) * 100, \n",
    "                                 #2018\n",
    "                            (total_2018_burned / ca_area_acreage) * 100 +\n",
    "                              (total_2017_burned / ca_area_acreage) * 100 + (total_2016_burned / ca_area_acreage) * 100 +\n",
    "                              (total_2015_burned / ca_area_acreage) * 100 + (total_2014_burned / ca_area_acreage) * 100 +\n",
    "                              (total_2013_burned / ca_area_acreage) * 100, \n",
    "                                 #2017\n",
    "                              (total_2017_burned / ca_area_acreage) * 100 + (total_2016_burned / ca_area_acreage) * 100 +\n",
    "                              (total_2015_burned / ca_area_acreage) * 100 + (total_2014_burned / ca_area_acreage) * 100 +\n",
    "                              (total_2013_burned / ca_area_acreage) * 100, \n",
    "                                 #2016\n",
    "                                 (total_2016_burned / ca_area_acreage) * 100 +\n",
    "                              (total_2015_burned / ca_area_acreage) * 100 + (total_2014_burned / ca_area_acreage) * 100 +\n",
    "                              (total_2013_burned / ca_area_acreage) * 100, \n",
    "                                 #2015\n",
    "                              (total_2015_burned / ca_area_acreage) * 100 + (total_2014_burned / ca_area_acreage) * 100 +\n",
    "                              (total_2013_burned / ca_area_acreage) * 100,\n",
    "                                 #2014\n",
    "                            (total_2014_burned / ca_area_acreage) * 100 +\n",
    "                              (total_2013_burned / ca_area_acreage) * 100,\n",
    "                                 #2013\n",
    "                                 (total_2013_burned / ca_area_acreage)]\n",
    "                      \n",
    "                              \n",
    "    })\n",
    "burned_by_year_df"
   ]
  },
  {
   "cell_type": "code",
   "execution_count": 34,
   "metadata": {},
   "outputs": [],
   "source": [
    "burned_by_year_df.to_csv(\"./burned_data.csv\", index=False, header=True)"
   ]
  },
  {
   "cell_type": "code",
   "execution_count": 35,
   "metadata": {},
   "outputs": [
    {
     "name": "stdout",
     "output_type": "stream",
     "text": [
      "   Year  Total_Recorded_Burnt_Acres  Total_%_of_CA_Burned  \\\n",
      "0  2021                   2129635.0              2.032765   \n",
      "1  2020                   2521282.0              2.406597   \n",
      "2  2019                    285469.0              0.272484   \n",
      "3  2018                   1618033.0              1.544434   \n",
      "4  2017                   1566344.0              1.495096   \n",
      "5  2016                    500281.0              0.477525   \n",
      "6  2015                    699428.0              0.667613   \n",
      "7  2014                    440175.0              0.420153   \n",
      "8  2013                    523966.0              0.500132   \n",
      "\n",
      "   Percent_of_CA_Burned_Post_2013  \n",
      "0                        9.816799  \n",
      "1                        7.784035  \n",
      "2                        5.377437  \n",
      "3                        5.104954  \n",
      "4                        3.560520  \n",
      "5                        2.065423  \n",
      "6                        1.587899  \n",
      "7                        0.920285  \n",
      "8                        0.005001  \n"
     ]
    }
   ],
   "source": [
    "\n",
    "print(burned_by_year_df)\n"
   ]
  },
  {
   "cell_type": "code",
   "execution_count": 36,
   "metadata": {},
   "outputs": [],
   "source": [
    "# Initialize PyMongo to work with MongoDBs\n",
    "\n",
    "# Define database and collection\n",
    "db = client.calfire\n",
    "burned = db.burned"
   ]
  },
  {
   "cell_type": "code",
   "execution_count": 37,
   "metadata": {},
   "outputs": [],
   "source": [
    "# db_2.destinations.insert(burned_by_year_df)"
   ]
  },
  {
   "cell_type": "code",
   "execution_count": 38,
   "metadata": {},
   "outputs": [
    {
     "data": {
      "text/plain": [
       "<pymongo.results.InsertManyResult at 0x12edef015c0>"
      ]
     },
     "execution_count": 38,
     "metadata": {},
     "output_type": "execute_result"
    }
   ],
   "source": [
    "converted_burned = pd.DataFrame.to_dict(burned_by_year_df, orient=\"records\")\n",
    "converted_burned\n",
    "db.ca_burned.insert_many(converted_burned )"
   ]
  },
  {
   "cell_type": "code",
   "execution_count": null,
   "metadata": {},
   "outputs": [],
   "source": []
  },
  {
   "cell_type": "code",
   "execution_count": 39,
   "metadata": {},
   "outputs": [],
   "source": [
    "# # Initialize PyMongo to work with MongoDBs\n",
    "# conn = 'mongodb://localhost:27017'\n",
    "# client = pymongo.MongoClient(conn)\n",
    "\n",
    "# # Define database and collection\n",
    "# db = client.calfire\n",
    "# collection = db.fires"
   ]
  }
 ],
 "metadata": {
  "interpreter": {
   "hash": "b3ba2566441a7c06988d0923437866b63cedc61552a5af99d1f4fb67d367b25f"
  },
  "kernelspec": {
   "display_name": "Python 3",
   "language": "python",
   "name": "python3"
  },
  "language_info": {
   "codemirror_mode": {
    "name": "ipython",
    "version": 3
   },
   "file_extension": ".py",
   "mimetype": "text/x-python",
   "name": "python",
   "nbconvert_exporter": "python",
   "pygments_lexer": "ipython3",
   "version": "3.8.8"
  }
 },
 "nbformat": 4,
 "nbformat_minor": 2
}
